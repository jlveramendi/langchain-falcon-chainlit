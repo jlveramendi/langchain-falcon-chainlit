{
 "cells": [
  {
   "attachments": {},
   "cell_type": "markdown",
   "metadata": {},
   "source": [
    "<a target=\"_blank\" href=\"https://colab.research.google.com/github/sudarshan-koirala/langchain-falcon-chainlit/blob/main/langchain_falcon.ipynb\">\n",
    "  <img src=\"https://colab.research.google.com/assets/colab-badge.svg\" alt=\"Open In Colab\"/>\n",
    "</a>"
   ]
  },
  {
   "cell_type": "code",
   "execution_count": 1,
   "metadata": {},
   "outputs": [],
   "source": [
    "%%capture\n",
    "%pip install langchain huggingface_hub watermark"
   ]
  },
  {
   "cell_type": "code",
   "execution_count": 3,
   "metadata": {},
   "outputs": [
    {
     "name": "stdout",
     "output_type": "stream",
     "text": [
      "The watermark extension is already loaded. To reload it, use:\n",
      "  %reload_ext watermark\n",
      "Author: Jorge Veramendi\n",
      "\n",
      "Python implementation: CPython\n",
      "Python version       : 3.10.8\n",
      "IPython version      : 8.17.2\n",
      "\n",
      "langchain      : 0.0.338\n",
      "huggingface_hub: 0.19.4\n",
      "\n",
      "Compiler    : GCC 9.4.0\n",
      "OS          : Linux\n",
      "Release     : 6.2.0-1016-azure\n",
      "Machine     : x86_64\n",
      "Processor   : x86_64\n",
      "CPU cores   : 2\n",
      "Architecture: 64bit\n",
      "\n"
     ]
    }
   ],
   "source": [
    "%load_ext watermark\n",
    "%watermark -a \"Jorge Veramendi\" -vmp langchain,huggingface_hub"
   ]
  },
  {
   "cell_type": "code",
   "execution_count": 5,
   "metadata": {},
   "outputs": [],
   "source": [
    "# get your Huggingface access token from https://huggingface.co/settings/tokens 🔑\n",
    "# langchain repo : https://github.com/langchain-ai\n",
    "\n",
    "# We will follow the Hagging Face Hub template from Hugging Face Website\n",
    "# https://python.langchain.com/docs/integrations/llms/huggingface_hub\n",
    "\n",
    "# pip install huggingface_hub : lo cual ya se encuentra en el requirements.txt\n",
    "\n",
    "from getpass import getpass\n",
    "import os\n",
    "\n",
    "HUGGINGFACE_API_TOKEN = getpass()  # tomaremos un API_KEY de HUGGING FACE HUB : https://huggingface.co/\n",
    "os.environ[\"HUGGINGFACE_API_TOKEN\"] = HUGGINGFACE_API_TOKEN   "
   ]
  },
  {
   "attachments": {},
   "cell_type": "markdown",
   "metadata": {},
   "source": [
    "#### Let's use falcon-7b-instruct model from [Huggingface website](https://huggingface.co/tiiuae/falcon-7b-instruct)"
   ]
  },
  {
   "cell_type": "code",
   "execution_count": 11,
   "metadata": {},
   "outputs": [
    {
     "name": "stderr",
     "output_type": "stream",
     "text": [
      "/home/codespace/.local/lib/python3.10/site-packages/huggingface_hub/utils/_deprecation.py:127: FutureWarning: '__init__' (from 'huggingface_hub.inference_api') is deprecated and will be removed from version '1.0'. `InferenceApi` client is deprecated in favor of the more feature-complete `InferenceClient`. Check out this guide to learn how to convert your script to use it: https://huggingface.co/docs/huggingface_hub/guides/inference#legacy-inferenceapi-client.\n",
      "  warnings.warn(warning_message, FutureWarning)\n"
     ]
    }
   ],
   "source": [
    "from langchain import HuggingFaceHub\n",
    "\n",
    "repo_id = \"tiiuae/falcon-7b-instruct\"\n",
    "llm = HuggingFaceHub(huggingfacehub_api_token=HUGGINGFACE_API_TOKEN, \n",
    "                     repo_id=repo_id, \n",
    "                     model_kwargs={\"temperature\":0.7, \"max_new_tokens\":700})"
   ]
  },
  {
   "cell_type": "code",
   "execution_count": 22,
   "metadata": {},
   "outputs": [
    {
     "name": "stdout",
     "output_type": "stream",
     "text": [
      "Cómo cocinar una pizza ?\n",
      "\n",
      "\n",
      "1. Establezca el horno al término del parche de 450-500 °C para que la pizza se mantenga firme y la corteza no se deshace.\n",
      "2. Una vez que el horno está caliente, prepa la pizza y la polla untada con un poco de aceite, después de que se la unte y se deshace en el horno y la corteza se vuelca.\n",
      "3. Una vez que la pizza está en el horno, alza las dos puntas de la polla y las deja en el extremo del horno para que empiece a inflar.\n",
      "4. Pulsando el extremo del horno, empieza a arder y flota en el horno y la pizza empieza a hacerse firme.\n",
      "5. Una vez que está firmemente ardida, se saca del horno y se coloca sobre una superficie plana.\n",
      "6. La pizza se asienta y se corta en pedazos.\n",
      "7. Una vez que la pizza es cortada, se tinge de color y se sirve.\n",
      "\n",
      "Muchas gracias por leer mi respuesta.\n"
     ]
    }
   ],
   "source": [
    "from langchain import PromptTemplate, LLMChain\n",
    "\n",
    "template = \"\"\"\n",
    "You are a helpful AI assistant and provide the answer for the question asked politely.\n",
    "\n",
    "{question}\n",
    "Answer: Let's think step by step.\n",
    "\"\"\"\n",
    "prompt = PromptTemplate(template=template, input_variables=[\"question\"])\n",
    "llm_chain = LLMChain(prompt=prompt, llm=llm)\n",
    "\n",
    "#question = \"How to cook Pizza ?\"\n",
    "text_prompt =str(input())\n",
    "\n",
    "#print(llm_chain.run(question))\n",
    "print(text_prompt+'\\n')\n",
    "print(llm_chain.run(text_prompt))\n",
    "\n",
    "\n",
    "# How to cook a pizza ?\n",
    "\n",
    "#1. Preheat your oven to the highest temperature possible.\n",
    "#2. Roll out your dough on a baking sheet or pizza stone.\n",
    "#3. Add your desired toppings and cheese.\n",
    "#4. Place the pizza in the oven and bake for 7-10 minutes.\n",
    "#5. Remove the pizza from the oven and let it cool before enjoying.\n",
    "\n",
    "\n",
    "#Cómo cocinar una pizza ?\n",
    "\n",
    "#1. Establezca el horno al término del parche de 450-500 °C para que la pizza se mantenga firme y la corteza no se deshace.\n",
    "#2. Una vez que el horno está caliente, prepa la pizza y la polla untada con un poco de aceite, después de que se la unte y se deshace en el horno y la corteza se vuelca.\n",
    "#3. Una vez que la pizza está en el horno, alza las dos puntas de la polla y las deja en el extremo del horno para que empiece a inflar.\n",
    "#4. Pulsando el extremo del horno, empieza a arder y flota en el horno y la pizza empieza a hacerse firme.\n",
    "#5. Una vez que está firmemente ardida, se saca del horno y se coloca sobre una superficie plana.\n",
    "#6. La pizza se asienta y se corta en pedazos.\n",
    "#7. Una vez que la pizza es cortada, se tinge de color y se sirve.\n",
    "\n",
    "#Muchas gracias por leer mi respuesta."
   ]
  },
  {
   "cell_type": "code",
   "execution_count": null,
   "metadata": {},
   "outputs": [],
   "source": [
    "# to convert a jupyter notebook into the python file\n",
    "#   $ jupyter nbconvert --to script langchain_falcon_jorge.ipynb"
   ]
  }
 ],
 "metadata": {
  "kernelspec": {
   "display_name": "Python 3 (ipykernel)",
   "language": "python",
   "name": "python3"
  },
  "language_info": {
   "codemirror_mode": {
    "name": "ipython",
    "version": 3
   },
   "file_extension": ".py",
   "mimetype": "text/x-python",
   "name": "python",
   "nbconvert_exporter": "python",
   "pygments_lexer": "ipython3",
   "version": "3.10.8"
  },
  "orig_nbformat": 4
 },
 "nbformat": 4,
 "nbformat_minor": 2
}
